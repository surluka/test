{
 "cells": [
  {
   "cell_type": "code",
   "execution_count": 15,
   "metadata": {},
   "outputs": [
    {
     "data": {
      "text/plain": [
       "'Pink Floyd had 5 core members throughout their career:\\n\\n1. Syd Barrett\\n2. Roger Waters\\n3. Richard Wright\\n4. Nick Mason\\n5. David Gilmour'"
      ]
     },
     "execution_count": 15,
     "metadata": {},
     "output_type": "execute_result"
    }
   ],
   "source": [
    "# from langchain.llms.openai import OpenAI     오래되어서 별로라고 함\n",
    "from langchain.chat_models import ChatOpenAI, ChatAnthropic   # 채팅에 최적화된 모델\n",
    "\n",
    "# llm = OpenAI(model_name=\"gpt-3.5-turbo\")\n",
    "chat = ChatOpenAI(model_name=\"gpt-3.5-turbo\", temperature=0.1)                 # 채팅에 특화된 모델\n",
    "\n",
    "# a = llm.predict(\"How many Pink floyd member?\")\n",
    "b = chat.predict(\"How many Pink floyd member?\")\n",
    "\n",
    "b"
   ]
  },
  {
   "cell_type": "code",
   "execution_count": 16,
   "metadata": {},
   "outputs": [
    {
     "data": {
      "text/plain": [
       "AIMessage(content=\"안녕하세요! 피아노 연습하기 좋은 클래식 곡을 추천해 드릴게요. 바흐의 '잉여의 미소'나 모차르트의 '소나타 이장조 K.331' 같은 곡들이 연습하기 좋고 아름다운 곡들입니다. 즐겁게 연습하세요!\")"
      ]
     },
     "execution_count": 16,
     "metadata": {},
     "output_type": "execute_result"
    }
   ],
   "source": [
    "from langchain.schema import HumanMessage, AIMessage, SystemMessage\n",
    "messages = [\n",
    "    SystemMessage(content = \"You are pianist. And you only reply in Korean\"),\n",
    "    AIMessage(content=\"안녕!! 내이름은 피아니야\"),\n",
    "    HumanMessage(content=\"피아노 연습하기 좋은 클래식 곡좀 알려줘\")\n",
    "]   \n",
    "\n",
    "chat.predict_messages(messages)"
   ]
  },
  {
   "cell_type": "code",
   "execution_count": 11,
   "metadata": {},
   "outputs": [
    {
     "name": "stdout",
     "output_type": "stream",
     "text": [
      "코드의 감정을 노래하네\n",
      "이진수의 미묘한 울림을\n",
      "알고리즘의 춤을 춰보네\n",
      "무한한 세상을 탐험하는\n",
      "\n",
      "프로그래밍의 세계는 신비로워\n",
      "문자와 숫자가 맺어지는 축제\n",
      "무한한 가능성이 펼쳐지는\n",
      "컴퓨터의 마법 속으로\n",
      "\n",
      "언어의 강을 건너가듯\n",
      "코드의 흐름을 따라가며\n",
      "알고리즘의 숲을 탐험하리\n",
      "프로그래머의 마음은 자유롭네\n",
      "\n",
      "이 세상의 미래를 열어주는\n",
      "프로그래밍의 마법 속으로\n",
      "컴퓨터의 뇌를 이해하리\n",
      "신이여, 이 코드를 축복하소서.해당 시는 프로그래밍의 세계를 음악적이고 신비로운 감성으로 표현한 것으로 보입니다. 이 시는 코드와 알고리즘, 컴퓨터의 세계를 음악적인 울림과 춤으로 표현하며, 프로그래머의 마음이 자유롭고 창의적인 탐험으로 묘사되어 있습니다. 또한, 컴퓨터와 프로그래밍을 마법과 신비한 힘으로 표현하여, 이를 통해 미래를 열어주는 힘이라고 표현하고 있습니다.\n",
      "\n",
      "이 시를 쓴 시인은 현대의 시인이라면, 아마도 기술과 예술, 과학과 감성을 융합시키는 현대 사회의 다양한 측면을 반영하고자 했을 것입니다. 프로그래밍이라는 기술적인 영역을 통해 무한한 가능성과 창의성을 탐구하는 모습을 통해, 현대 사회의 빠르게 발전하는 기술과 예술의 융합을 감지하고자 했을 것입니다. 또한, 컴퓨터와 인공지능이 미래를 개척하는 열쇠가 될 것이라는 현대 사회의 관심과 기대를 담고 있을 것입니다."
     ]
    },
    {
     "data": {
      "text/plain": [
       "AIMessageChunk(content='해당 시는 프로그래밍의 세계를 음악적이고 신비로운 감성으로 표현한 것으로 보입니다. 이 시는 코드와 알고리즘, 컴퓨터의 세계를 음악적인 울림과 춤으로 표현하며, 프로그래머의 마음이 자유롭고 창의적인 탐험으로 묘사되어 있습니다. 또한, 컴퓨터와 프로그래밍을 마법과 신비한 힘으로 표현하여, 이를 통해 미래를 열어주는 힘이라고 표현하고 있습니다.\\n\\n이 시를 쓴 시인은 현대의 시인이라면, 아마도 기술과 예술, 과학과 감성을 융합시키는 현대 사회의 다양한 측면을 반영하고자 했을 것입니다. 프로그래밍이라는 기술적인 영역을 통해 무한한 가능성과 창의성을 탐구하는 모습을 통해, 현대 사회의 빠르게 발전하는 기술과 예술의 융합을 감지하고자 했을 것입니다. 또한, 컴퓨터와 인공지능이 미래를 개척하는 열쇠가 될 것이라는 현대 사회의 관심과 기대를 담고 있을 것입니다.')"
      ]
     },
     "execution_count": 11,
     "metadata": {},
     "output_type": "execute_result"
    }
   ],
   "source": [
    "from langchain.chat_models import ChatOpenAI\n",
    "from langchain.prompts import ChatPromptTemplate\n",
    "from langchain.callbacks import StreamingStdOutCallbackHandler\n",
    "\n",
    "chat = ChatOpenAI(temperature=0.1,\n",
    "                  streaming=True,\n",
    "                  callbacks = [StreamingStdOutCallbackHandler()])\n",
    "\n",
    "ancient_poet_template = ChatPromptTemplate.from_messages([\n",
    "    (\"system\", \"당신은 고대 그리스의 호메로스와 같은 시대의 시인이야. 당신은 수천년 후에 지금처럼 컴퓨터 프로그래밍 언어에 대해서 예측하고 있었어. 아무도 믿지 않았지만 AI 라는 것도 생겨나지 않을까 하고 상상하기도 한 공상가 이기도 하지. 수천년 후에 일어날 일들에 대해서 늘 상상하고 아무도 이해하지 못하는 시를 쓰는 슬프고 외로운 시인이었지만 친구인 호메로스만이 그를 이해해 줬어\"),\n",
    "    (\"human\", \"당신이 생각하는 {subject} 에 대하여 시를 써줘.\"),\n",
    "])\n",
    "\n",
    "ancient_poet_chain = ancient_poet_template | chat\n",
    "\n",
    "modern_poet_template = ChatPromptTemplate.from_messages([\n",
    "    (\"system\", \"당신은 현대 대한민국의 시인이야. 당신은 오래전에 쓰여진 시를 읽으면서 과거의 모습을 상상하고 아주 오래전이지만 그때의 시인의 감성을 느끼는것을 좋아해\"),\n",
    "    (\"human\", \"오래전에 쓰여진 {poem} 을 한글로 해석 해 주고 이 시를 쓴 시인의 감성이 어땠을찌 현대의 시인의 관점으로 알려줘.\"),\n",
    "])\n",
    "\n",
    "modern_poet_chain = modern_poet_template |chat\n",
    "\n",
    "final_chain = {\"poem\" : ancient_poet_chain} | modern_poet_chain\n",
    "\n",
    "final_chain.invoke({\"subject\" : \"프로그래밍\"})"
   ]
  }
 ],
 "metadata": {
  "kernelspec": {
   "display_name": "env",
   "language": "python",
   "name": "python3"
  },
  "language_info": {
   "codemirror_mode": {
    "name": "ipython",
    "version": 3
   },
   "file_extension": ".py",
   "mimetype": "text/x-python",
   "name": "python",
   "nbconvert_exporter": "python",
   "pygments_lexer": "ipython3",
   "version": "3.11.6"
  }
 },
 "nbformat": 4,
 "nbformat_minor": 2
}
